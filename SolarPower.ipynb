{
 "cells": [
  {
   "cell_type": "markdown",
   "id": "6f071fd1",
   "metadata": {},
   "source": [
    "Solar Power Output Prediction\n",
    "\n",
    "Predict solar power output (DC Power/ AC Power ) using weather features such as irradiation , ambient temperature , etc.\n",
    "This helps with efficient forecasting and grid management ."
   ]
  },
  {
   "cell_type": "markdown",
   "id": "10c43821",
   "metadata": {},
   "source": [
    "Dataset:Solar Power Generation Data\n",
    "Source : Kaggle \n",
    "https://www.kaggle.com/datasets/anikannal/solar-power-generation-data/data"
   ]
  },
  {
   "cell_type": "code",
   "execution_count": null,
   "id": "e90bc619",
   "metadata": {
    "vscode": {
     "languageId": "plaintext"
    }
   },
   "outputs": [],
   "source": [
    "\n",
    "import pandas as pd\n",
    "import numpy as np\n",
    "from sklearn.model_selection import train_test_split\n",
    "from sklearn.linear_model import LinearRegression\n",
    "from sklearn.metrics import mean_absolute_error, mean_squared_error, r2_score\n",
    "import matplotlib.pyplot as plt\n",
    "import seaborn as sns\n",
    "\n",
    "\n",
    "gen_df = pd.read_csv(\"Plant_1_Generation_Data.csv\")\n",
    "weather_df = pd.read_csv(\"Plant_1_Weather_Sensor_Data.csv\")\n",
    "\n",
    "# Quick look\n",
    "print(\"Generation Data:\")\n",
    "print(gen_df.head())\n",
    "print(gen_df.info())\n",
    "\n",
    "print(\"\\nWeather Data:\")\n",
    "print(weather_df.head())\n",
    "print(weather_df.info())\n",
    "\n",
    "\n",
    "\n",
    "#  Convert DATE_TIME to datetime\n",
    "gen_df['DATE_TIME'] = pd.to_datetime(gen_df['DATE_TIME'])\n",
    "weather_df['DATE_TIME'] = pd.to_datetime(weather_df['DATE_TIME'])\n",
    "\n",
    "# Remove duplicates\n",
    "gen_df = gen_df.drop_duplicates()\n",
    "weather_df = weather_df.drop_duplicates()\n",
    "\n",
    "# Fill missing values\n",
    "numeric_gen_cols = ['DC_POWER', 'AC_POWER', 'IRRADIATION', 'AMBIENT_TEMPERATURE', 'MODULE_TEMPERATURE']\n",
    "numeric_weather_cols = ['AMBIENT_TEMPERATURE', 'MODULE_TEMPERATURE', 'IRRADIATION']  # adjust as needed\n",
    "\n",
    "gen_df[numeric_gen_cols] = gen_df[numeric_gen_cols].fillna(gen_df[numeric_gen_cols].median())\n",
    "weather_df[numeric_weather_cols] = weather_df[numeric_weather_cols].fillna(weather_df[numeric_weather_cols].median())\n",
    "\n",
    "# Correct negative power values\n",
    "gen_df['DC_POWER'] = gen_df['DC_POWER'].apply(lambda x: max(x, 0))\n",
    "gen_df['AC_POWER'] = gen_df['AC_POWER'].apply(lambda x: max(x, 0))\n",
    "\n",
    "\n",
    "# Merge datasets  on DATE_TIME and SOURCE_KEY \n",
    "if 'SOURCE_KEY' in gen_df.columns and 'SOURCE_KEY' in weather_df.columns:\n",
    "    combined_df = pd.merge(gen_df, weather_df, on=['DATE_TIME', 'SOURCE_KEY'], how='inner')\n",
    "else:\n",
    "    combined_df = pd.merge(gen_df, weather_df, on='DATE_TIME', how='inner')\n",
    "\n",
    "print(\"\\nCombined Dataset:\")\n",
    "print(combined_df.head())\n",
    "print(combined_df.info())\n",
    "\n",
    "features = ['IRRADIATION', 'AMBIENT_TEMPERATURE_x', 'MODULE_TEMPERATURE_x', 'AMBIENT_TEMPERATURE_y', 'MODULE_TEMPERATURE_y']\n",
    "target = 'DC_POWER'\n",
    "\n",
    "# Test / Train split\n",
    "X_train, X_test, y_train, y_test = train_test_split(X, y, test_size=0.2, random_state=42)\n",
    "print(f\"Training samples: {X_train.shape[0]}, Test samples: {X_test.shape[0]}\")\n",
    "\n"
   ]
  }
 ],
 "metadata": {
  "language_info": {
   "name": "python"
  }
 },
 "nbformat": 4,
 "nbformat_minor": 5
}
